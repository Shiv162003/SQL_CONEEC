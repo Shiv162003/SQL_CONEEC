{
 "cells": [
  {
   "cell_type": "code",
   "execution_count": 1,
   "id": "09ef579a",
   "metadata": {},
   "outputs": [],
   "source": [
    "import mysql.connector\n",
    "import pandas as pd"
   ]
  },
  {
   "cell_type": "code",
   "execution_count": 2,
   "id": "fffb6faf",
   "metadata": {},
   "outputs": [
    {
     "name": "stdout",
     "output_type": "stream",
     "text": [
      " 'actors':\n",
      "   id first_name           last_name gender\n",
      "0   2    Michael  'babeepower' Viera      M\n",
      "1   3       Eloy         'Chincheta'      M\n",
      "2   4   Dieguito         'El Cigala'      M\n",
      "3   5    Antonio    'El de Chipiona'      M\n",
      "4   6       José        'El Francés'      M\n",
      " 'directors':\n",
      "   id first_name    last_name\n",
      "0   1       Todd            1\n",
      "1   2        Les  12 Poissons\n",
      "2   3    Lejaren     a'Hiller\n",
      "3   4       Nian            A\n",
      "4   5   Khairiya    A-Mansour\n",
      " 'directors_genres':\n",
      "   director_id        genre  prob\n",
      "0            2        Short   1.0\n",
      "1            3        Drama   1.0\n",
      "2            5  Documentary   1.0\n",
      "3            6        Drama   1.0\n",
      "4            6        Short   1.0\n",
      " 'movies':\n",
      "   id                                 name  year  rankscore\n",
      "0   0                                  #28  2002        NaN\n",
      "1   1  #7 Train: An Immigrant Journey, The  2000        NaN\n",
      "2   2                                    $  1971        6.4\n",
      "3   3                        $1,000 Reward  1913        NaN\n",
      "4   4                        $1,000 Reward  1915        NaN\n",
      " 'movies_directors':\n",
      "   director_id  movie_id\n",
      "0            1    378879\n",
      "1            2    281325\n",
      "2            3     30621\n",
      "3            3    304743\n",
      "4            4     60570\n",
      " 'movies_genres':\n",
      "   movie_id        genre\n",
      "0         1  Documentary\n",
      "1         1        Short\n",
      "2         2       Comedy\n",
      "3         2        Crime\n",
      "4         5      Western\n",
      " 'roles':\n",
      "   actor_id  movie_id              role\n",
      "0         2    280088            Stevie\n",
      "1         2    396232  Various/lyricist\n",
      "2         3    376687          Gitano 1\n",
      "3         4    336265         El Cigala\n",
      "4         5    135644           Himself\n"
     ]
    }
   ],
   "source": [
    "host = 'localhost'\n",
    "user = 'root'\n",
    "password = 'shan12345'\n",
    "database='imdb'\n",
    "\n",
    "\n",
    "connection = mysql.connector.connect(\n",
    "    host=host,\n",
    "    user=user,\n",
    "    password=password,\n",
    "    database=database\n",
    ")\n",
    "\n",
    "\n",
    "cursor = connection.cursor()\n",
    "\n",
    "\n",
    "show_tables_query = 'SHOW TABLES'\n",
    "cursor.execute(show_tables_query)\n",
    "\n",
    "\n",
    "tables = cursor.fetchall()\n",
    "\n",
    "#dictionary to store DataFrames\n",
    "dataframes = {}\n",
    "\n",
    "# Iterate through each table and create a DataFrame\n",
    "for table in tables:\n",
    "    table_name = table[0]\n",
    "    query = f'SELECT * FROM {table_name}'\n",
    "    dataframe = pd.read_sql(query, connection)\n",
    "    dataframes[table_name] = dataframe\n",
    "\n",
    "# Display the DataFrames\n",
    "for table_name, dataframe in dataframes.items():\n",
    "    print(f\" '{table_name}':\")\n",
    "    print(dataframe.head())"
   ]
  },
  {
   "cell_type": "code",
   "execution_count": 3,
   "id": "95c2bf63",
   "metadata": {},
   "outputs": [
    {
     "name": "stdout",
     "output_type": "stream",
     "text": [
      "\n",
      "DataFrame for table 'actors':\n",
      "   actor_id  movie_id              role\n",
      "0         2    280088            Stevie\n",
      "1         2    396232  Various/lyricist\n",
      "2         3    376687          Gitano 1\n",
      "3         4    336265         El Cigala\n",
      "4         5    135644           Himself\n"
     ]
    }
   ],
   "source": [
    "print(f\"\\nDataFrame for table 'actors':\")\n",
    "print(dataframe.head())\n"
   ]
  },
  {
   "cell_type": "code",
   "execution_count": null,
   "id": "d2c686de",
   "metadata": {},
   "outputs": [],
   "source": []
  }
 ],
 "metadata": {
  "kernelspec": {
   "display_name": "Python 3 (ipykernel)",
   "language": "python",
   "name": "python3"
  },
  "language_info": {
   "codemirror_mode": {
    "name": "ipython",
    "version": 3
   },
   "file_extension": ".py",
   "mimetype": "text/x-python",
   "name": "python",
   "nbconvert_exporter": "python",
   "pygments_lexer": "ipython3",
   "version": "3.9.7"
  }
 },
 "nbformat": 4,
 "nbformat_minor": 5
}
